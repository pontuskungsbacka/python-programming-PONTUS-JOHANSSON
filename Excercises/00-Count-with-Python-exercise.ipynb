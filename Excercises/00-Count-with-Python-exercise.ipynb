{
 "cells": [
  {
   "cell_type": "markdown",
   "id": "ffeceadf",
   "metadata": {},
   "source": [
    "# Exercise 0 \n",
    "## Count with Python\n",
    "In this file we will go through Exercise 0 "
   ]
  },
  {
   "cell_type": "markdown",
   "id": "44d9181c",
   "metadata": {},
   "source": [
    "#### 1. Pythagorean theorem (*)\n",
    "\n",
    "  a)   A right angled triangle has the catheti: a = 3 and b = 4 length units. Compute the hypothenuse of the triangle. (*)\n",
    "\n",
    "  b)   A right angled triangle has hypothenuse c = 7.0 and a cathetus a = 5.0 length units. Compute the other cathetus and round to one decimal. (*)\n",
    "\n",
    "  \n",
    "<img align=\"left\" src=\"../assets/right-angle-triangle.png\" width=\"200\"/>"
   ]
  },
  {
   "cell_type": "code",
   "execution_count": null,
   "id": "e5aa07cf",
   "metadata": {},
   "outputs": [],
   "source": [
    "from math import sqrt #Importing the sqrt function from the math module"
   ]
  },
  {
   "cell_type": "markdown",
   "id": "757bef01",
   "metadata": {},
   "source": [
    "##### a)"
   ]
  },
  {
   "cell_type": "code",
   "execution_count": 5,
   "id": "c4f79f1a",
   "metadata": {},
   "outputs": [
    {
     "name": "stdout",
     "output_type": "stream",
     "text": [
      "The hypothenuse of the triangle is 5.0\n"
     ]
    }
   ],
   "source": [
    "sidea = 3\n",
    "sideb = 4\n",
    "\n",
    "sidec = sqrt((sidea**2)+(sideb**2))\n",
    "\n",
    "print(f\"The hypothenuse of the triangle is {sidec}\")"
   ]
  },
  {
   "cell_type": "markdown",
   "id": "44fd951f",
   "metadata": {},
   "source": [
    "##### b)"
   ]
  },
  {
   "cell_type": "code",
   "execution_count": 6,
   "id": "f7727344",
   "metadata": {},
   "outputs": [
    {
     "name": "stdout",
     "output_type": "stream",
     "text": [
      "The other cathetus and round to one decimal 4.9\n"
     ]
    }
   ],
   "source": [
    "sidea = 5\n",
    "sidec = 7\n",
    "\n",
    "sideb = sqrt((sidec**2)-(sidea**2))\n",
    "print(f\"The other cathetus and round to one decimal {sideb:.1f}\")"
   ]
  },
  {
   "cell_type": "markdown",
   "id": "81cb8a40",
   "metadata": {},
   "source": [
    "---\n",
    "## 3. Classification accuracy (*)\n",
    "A machine learning model has been trained to detect fire. Here is the result of its predictions: \n",
    "\n",
    "<table align=\"left\">\n",
    "<tbody>\n",
    "  <tr>\n",
    "    <td>True Positive (TP)\n",
    "      <ul>\n",
    "        <li>Reality: fire</li>\n",
    "        <li>Predicted: fire</li>\n",
    "        <li>Number of TP: 2</li>\n",
    "      </ul>\n",
    "    </td>\n",
    "    <td>False Positive (FP)\n",
    "      <ul>\n",
    "        <li>Reality: no fire</li>\n",
    "        <li>Predicted: fire</li>\n",
    "        <li>Number of FP: 2</li>\n",
    "      </ul>\n",
    "    </td>\n",
    "  </tr>\n",
    "\n",
    "  <tr>\n",
    "    <td>False Negative (FN)\n",
    "      <ul>\n",
    "        <li>Reality: fire</li>\n",
    "        <li>Predicted: no fire</li>\n",
    "        <li>Number of FN: 11</li>\n",
    "      </ul>\n",
    "    </td>\n",
    "    <td>True Negative (TN)\n",
    "      <ul>\n",
    "        <li>Reality: no fire</li>\n",
    "        <li>Predicted: no fire</li>\n",
    "        <li>Number of TN: 985</li>\n",
    "      </ul>\n",
    "    </td>\n",
    "  </tr>\n",
    "</tbody>\n",
    "</table>\n",
    "<br></br><br></br><br></br><br></br><br></br><br></br>\n",
    "Calculated the accuracy using the following formula:\n",
    "\n",
    "$\\text{accuracy} = \\frac{TP+TN}{TP+TN+FP+FN}$\n",
    "\n",
    "Is this a good model?"
   ]
  },
  {
   "cell_type": "code",
   "execution_count": 9,
   "id": "e1edee75",
   "metadata": {},
   "outputs": [
    {
     "name": "stdout",
     "output_type": "stream",
     "text": [
      "The accuracy of the predictions is 0.987\n",
      "The accuracy of the predictions is 98.7%\n"
     ]
    }
   ],
   "source": [
    "TP = 2\n",
    "FP = 2\n",
    "FN = 11\n",
    "TN = 985\n",
    "\n",
    "accuracy = (TP + TN) / (TP + TN + FP + FN)\n",
    "print(f\"The accuracy of the predictions is {accuracy:.3f}\")\n",
    "print(f\"The accuracy of the predictions is {accuracy:.1%}\")"
   ]
  },
  {
   "cell_type": "markdown",
   "id": "68228c21",
   "metadata": {},
   "source": [
    "The accuracy of the predictions is 98,7 % so model is good."
   ]
  },
  {
   "cell_type": "markdown",
   "id": "ac3f55d9",
   "metadata": {},
   "source": [
    "--- \n",
    "## 4. Line (*)\n",
    "Compute the slope $k$ and the constant term $m$ of this line using the points $A: (4,4)$ and $B: (0,1)$.  \n",
    "\n",
    "<img align=\"left\" src=\"../assets/line.png\" width=\"200\"/>"
   ]
  },
  {
   "cell_type": "code",
   "execution_count": 3,
   "id": "2c9b8cce",
   "metadata": {},
   "outputs": [
    {
     "name": "stdout",
     "output_type": "stream",
     "text": [
      "The slope(k) of the line between the points is 0.75\n",
      "The constant(m) of the line is 1.00\n",
      "k = 0.75, m = 1, so the equation of the line is: y = 0.75x + 1\n"
     ]
    }
   ],
   "source": [
    "pointx1, pointy1 = 4 , 4 # point A (x1, y1)\n",
    "pontusx2, pointy2 = 0 , 1  # point B (x2, y2)\n",
    "slope = (pointy2 - pointy1) / (pontusx2 - pointx1)\n",
    "print(f\"The slope(k) of the line between the points is {slope:.2f}\")\n",
    "constant = pointy1 - slope * pointx1\n",
    "print(f\"The constant(m) of the line is {constant:.2f}\")\n",
    "\n",
    "print(f\"k = {slope}, m = {constant:.0f}, so the equation of the line is: y = {slope}x + {constant:.0f}\")\n",
    "#y = mx + b"
   ]
  },
  {
   "cell_type": "markdown",
   "id": "aa6644c3",
   "metadata": {},
   "source": [
    "---\n",
    "## 5. Euclidean distance (*)\n",
    "\n",
    "The Euclideam distance between the points $P_1$ and $P_2$ is the length of a line between them. Let $P_1: (3,5)$ and $P_2: (-2,4)$ and compute the distance between them."
   ]
  },
  {
   "cell_type": "code",
   "execution_count": null,
   "id": "3179fce1",
   "metadata": {},
   "outputs": [
    {
     "name": "stdout",
     "output_type": "stream",
     "text": [
      "The distance between the points is 5.1 length units\n"
     ]
    }
   ],
   "source": [
    "from math import sqrt #Importing the sqrt function from the math module\n",
    "x1, y1 = 3 , 5 # P1\n",
    "x2, y2 = -2 , 4 # P2\n",
    "\n",
    "#Calculate the distance between the points\n",
    "distance = sqrt((x2 - x1)**2 + (y2 - y1)**2)\n",
    "print(f\"The distance between the points is {distance:.1f} l.u.\")"
   ]
  },
  {
   "cell_type": "markdown",
   "id": "3f2ff88b",
   "metadata": {},
   "source": [
    "---\n",
    "## 6. Euclidean distance in 3D (**)\n",
    "\n",
    "Calculate the distance between the points $P_1: (2,1,4)$ and $P_2: (3,1,0)$ \n",
    "\n",
    "<details> \n",
    "\n",
    "<summary>Hint </summary>\n",
    "\n",
    "Let $p =(p_1, p_2, p_3)$ and $q = (q_1, q_2, q_3) \\Rightarrow$   \n",
    "\n",
    "$d(p,q) = \\sqrt{(p_1-q_1)^2 +(p_2-q_2)^2 +(p_3-q_3)^2 }$, where $d(p,q)$ is the Euclidean distance between $p$ and $q$\n",
    "\n",
    "</details>\n",
    "<br>\n",
    "<details> \n",
    "\n",
    "<summary>Answer </summary>\n",
    "\n",
    "```\n",
    "The distance is around 4.12 l.u.\n",
    "```\n",
    "\n",
    "</details>"
   ]
  },
  {
   "cell_type": "code",
   "execution_count": null,
   "id": "a54d857d",
   "metadata": {},
   "outputs": [
    {
     "name": "stdout",
     "output_type": "stream",
     "text": [
      "The distance between the points is 4.12 length units\n"
     ]
    }
   ],
   "source": [
    "from math import sqrt #Importing the sqrt function from the math module\n",
    "\n",
    "p1, p2, p3 = 2, 1, 4\n",
    "q1, q2, q3 = 3, 1, 0\n",
    "#Calculate the distance between the points\n",
    "distance = sqrt((q1 - p1)**2 + (q2 - p2)**2 + (q3 - p3)**2)\n",
    "print(f\"The distance between the points is {distance:.2f} l.u\")"
   ]
  }
 ],
 "metadata": {
  "kernelspec": {
   "display_name": "Python 3",
   "language": "python",
   "name": "python3"
  },
  "language_info": {
   "codemirror_mode": {
    "name": "ipython",
    "version": 3
   },
   "file_extension": ".py",
   "mimetype": "text/x-python",
   "name": "python",
   "nbconvert_exporter": "python",
   "pygments_lexer": "ipython3",
   "version": "3.13.7"
  }
 },
 "nbformat": 4,
 "nbformat_minor": 5
}
