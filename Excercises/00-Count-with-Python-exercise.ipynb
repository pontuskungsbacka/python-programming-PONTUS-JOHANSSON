{
 "cells": [
  {
   "cell_type": "markdown",
   "id": "ffeceadf",
   "metadata": {},
   "source": [
    "# Exercise 0 \n",
    "## Count with Python\n",
    "In this file we will go through Exercise 0 "
   ]
  },
  {
   "cell_type": "markdown",
   "id": "44d9181c",
   "metadata": {},
   "source": [
    "#### 1. Pythagorean theorem (*)\n",
    "\n",
    "  a)   A right angled triangle has the catheti: a = 3 and b = 4 length units. Compute the hypothenuse of the triangle. (*)\n",
    "\n",
    "  b)   A right angled triangle has hypothenuse c = 7.0 and a cathetus a = 5.0 length units. Compute the other cathetus and round to one decimal. (*)"
   ]
  },
  {
   "cell_type": "code",
   "execution_count": 1,
   "id": "c4f79f1a",
   "metadata": {},
   "outputs": [
    {
     "ename": "NameError",
     "evalue": "name 'sqrt' is not defined",
     "output_type": "error",
     "traceback": [
      "\u001b[31m---------------------------------------------------------------------------\u001b[39m",
      "\u001b[31mNameError\u001b[39m                                 Traceback (most recent call last)",
      "\u001b[36mCell\u001b[39m\u001b[36m \u001b[39m\u001b[32mIn[1]\u001b[39m\u001b[32m, line 6\u001b[39m\n\u001b[32m      3\u001b[39m sidea = \u001b[32m3\u001b[39m\n\u001b[32m      4\u001b[39m sideb = \u001b[32m4\u001b[39m\n\u001b[32m----> \u001b[39m\u001b[32m6\u001b[39m sidec = \u001b[43msqrt\u001b[49m((sidea**\u001b[32m2\u001b[39m)+(sideb**\u001b[32m2\u001b[39m))\n\u001b[32m      8\u001b[39m \u001b[38;5;28mprint\u001b[39m(\u001b[33mf\u001b[39m\u001b[33m\"\u001b[39m\u001b[33mThe hypothenuse of the triangle is \u001b[39m\u001b[38;5;132;01m{\u001b[39;00msidec\u001b[38;5;132;01m}\u001b[39;00m\u001b[33m\"\u001b[39m)\n",
      "\u001b[31mNameError\u001b[39m: name 'sqrt' is not defined"
     ]
    }
   ],
   "source": [
    "import math\n",
    "\n",
    "sidea = 3\n",
    "sideb = 4\n",
    "\n",
    "sidec = sqrt((sidea**2)+(sideb**2))\n",
    "\n",
    "print(f\"The hypothenuse of the triangle is {sidec}\")"
   ]
  }
 ],
 "metadata": {
  "kernelspec": {
   "display_name": "Python 3",
   "language": "python",
   "name": "python3"
  },
  "language_info": {
   "codemirror_mode": {
    "name": "ipython",
    "version": 3
   },
   "file_extension": ".py",
   "mimetype": "text/x-python",
   "name": "python",
   "nbconvert_exporter": "python",
   "pygments_lexer": "ipython3",
   "version": "3.13.7"
  }
 },
 "nbformat": 4,
 "nbformat_minor": 5
}
