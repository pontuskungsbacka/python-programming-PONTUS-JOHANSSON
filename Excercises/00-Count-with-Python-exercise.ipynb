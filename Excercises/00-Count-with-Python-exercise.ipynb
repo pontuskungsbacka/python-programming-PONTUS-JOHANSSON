{
 "cells": [
  {
   "cell_type": "markdown",
   "id": "ffeceadf",
   "metadata": {},
   "source": [
    "# Exercise 0 \n",
    "## Count with Python\n",
    "In this file we will go through Exercise 0 "
   ]
  },
  {
   "cell_type": "markdown",
   "id": "44d9181c",
   "metadata": {},
   "source": [
    "#### 1. Pythagorean theorem (*)\n",
    "\n",
    "  a)   A right angled triangle has the catheti: a = 3 and b = 4 length units. Compute the hypothenuse of the triangle. (*)\n",
    "\n",
    "  b)   A right angled triangle has hypothenuse c = 7.0 and a cathetus a = 5.0 length units. Compute the other cathetus and round to one decimal. (*)"
   ]
  },
  {
   "cell_type": "code",
   "execution_count": null,
   "id": "c4f79f1a",
   "metadata": {
    "vscode": {
     "languageId": "plaintext"
    }
   },
   "outputs": [],
   "source": [
    "a = 3\n",
    "b = 4\n"
   ]
  }
 ],
 "metadata": {
  "language_info": {
   "name": "python"
  }
 },
 "nbformat": 4,
 "nbformat_minor": 5
}
