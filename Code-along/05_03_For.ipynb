{
 "cells": [
  {
   "cell_type": "markdown",
   "id": "d9a384cc",
   "metadata": {},
   "source": [
    "### For loop"
   ]
  },
  {
   "cell_type": "code",
   "execution_count": 1,
   "id": "09e06810",
   "metadata": {},
   "outputs": [
    {
     "name": "stdout",
     "output_type": "stream",
     "text": [
      "1\n",
      "2\n",
      "3\n",
      "4\n",
      "5\n"
     ]
    }
   ],
   "source": [
    "myList = [1, 2, 3, 4, 5]\n",
    "for item in myList:\n",
    "    print(item)"
   ]
  },
  {
   "cell_type": "markdown",
   "id": "2c164d08",
   "metadata": {},
   "source": [
    "##### Pass"
   ]
  },
  {
   "cell_type": "code",
   "execution_count": 3,
   "id": "aa3a5e37",
   "metadata": {},
   "outputs": [],
   "source": [
    "animalLookup = {\n",
    "    \"cat\": \"meow\",\n",
    "    \"dog\": \"woof\",\n",
    "    \"cow\": \"moo\",\n",
    "    \"sheep\": \"baa\"\n",
    "}\n",
    "for animal, sound in animalLookup.items():\n",
    "    pass"
   ]
  },
  {
   "cell_type": "code",
   "execution_count": null,
   "id": "9aa1f031",
   "metadata": {},
   "outputs": [
    {
     "name": "stdout",
     "output_type": "stream",
     "text": [
      "cat goes meow\n",
      "dog goes woof\n",
      "cow goes moo\n",
      "sheep goes baa\n"
     ]
    }
   ],
   "source": [
    "for animal, sound in animalLookup.items():\n",
    "    if len(animal) < 3:  #if the length of the animal name is less than 3\n",
    "        continue\n",
    "    print(f\"{animal} goes {sound}\")  # Print the animal and its sound"
   ]
  },
  {
   "cell_type": "markdown",
   "id": "f35cd54a",
   "metadata": {},
   "source": [
    "##### Break"
   ]
  },
  {
   "cell_type": "code",
   "execution_count": null,
   "id": "e609810b",
   "metadata": {},
   "outputs": [
    {
     "name": "stdout",
     "output_type": "stream",
     "text": [
      "Found 3 animals: Cat\n"
     ]
    }
   ],
   "source": [
    "animalLetter = {\n",
    "    \"a\": \"Cat\",\n",
    "    \"b\": \"Dog\",\n",
    "    \"c\": \"Cow\",\n",
    "    \"d\": \"Dunky\"\n",
    "}\n",
    "for letter, animals in animalLetter.items():\n",
    "    if len(animals) > 1: \n",
    "        print(f\"Found {len(animals)} animals: {animals}\")\n",
    "        break"
   ]
  }
 ],
 "metadata": {
  "kernelspec": {
   "display_name": "Python 3",
   "language": "python",
   "name": "python3"
  },
  "language_info": {
   "codemirror_mode": {
    "name": "ipython",
    "version": 3
   },
   "file_extension": ".py",
   "mimetype": "text/x-python",
   "name": "python",
   "nbconvert_exporter": "python",
   "pygments_lexer": "ipython3",
   "version": "3.13.7"
  }
 },
 "nbformat": 4,
 "nbformat_minor": 5
}
