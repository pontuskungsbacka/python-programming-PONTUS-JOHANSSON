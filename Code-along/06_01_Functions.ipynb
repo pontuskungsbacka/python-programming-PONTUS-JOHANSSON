{
 "cells": [
  {
   "cell_type": "markdown",
   "id": "1b787395",
   "metadata": {},
   "source": [
    "### Functions"
   ]
  },
  {
   "cell_type": "code",
   "execution_count": 8,
   "id": "70481c78",
   "metadata": {},
   "outputs": [
    {
     "data": {
      "text/plain": [
       "15"
      ]
     },
     "execution_count": 8,
     "metadata": {},
     "output_type": "execute_result"
    }
   ],
   "source": [
    "def performOperation(num1, num2, operation):\n",
    "    if operation == \"add\":\n",
    "        return num1 + num2\n",
    "    elif operation == \"subtract\":\n",
    "        return num1 - num2\n",
    "    elif operation == \"multiply\":\n",
    "        return num1 * num2\n",
    "    elif operation == \"divide\":\n",
    "        if num2 != 0:\n",
    "            return num1 / num2\n",
    "        else:\n",
    "            return \"Error: Division by zero\"\n",
    "    else:\n",
    "        return \"Error: Unknown operation\"\n",
    "performOperation(10, 5, \"add\")  # Returns 15\n",
    "#performOperation(10, 5, \"subtract\")  # Returns 5\n",
    "#performOperation(10, 5, \"multiply\")  # Returns 50   \n",
    "#performOperation(10, 5, \"divide\")  # Returns 2.0\n",
    "#performOperation(10, 0, \"divide\")  # Returns \"Error: Division by zero\"\n"
   ]
  },
  {
   "cell_type": "markdown",
   "id": "9cdfb627",
   "metadata": {},
   "source": [
    "##### Named parameters"
   ]
  },
  {
   "cell_type": "code",
   "execution_count": null,
   "id": "1004b702",
   "metadata": {},
   "outputs": [
    {
     "data": {
      "text/plain": [
       "15"
      ]
     },
     "execution_count": 9,
     "metadata": {},
     "output_type": "execute_result"
    }
   ],
   "source": [
    "def performOperation(num1, num2, operation=\"add\"):\n",
    "    if operation == \"add\":\n",
    "        return num1 + num2\n",
    "    elif operation == \"subtract\":\n",
    "        return num1 - num2\n",
    "performOperation(10, 5)     # Uses default operation \"add\", returns 15"
   ]
  },
  {
   "cell_type": "code",
   "execution_count": null,
   "id": "bbe2eb2b",
   "metadata": {},
   "outputs": [
    {
     "name": "stdout",
     "output_type": "stream",
     "text": [
      "Result is\n"
     ]
    },
    {
     "data": {
      "text/plain": [
       "15"
      ]
     },
     "execution_count": 11,
     "metadata": {},
     "output_type": "execute_result"
    }
   ],
   "source": [
    "def performOperation(num1, num2, operation=\"add\", message=\"Result is\"):\n",
    "    print(message)\n",
    "    if operation == \"add\":\n",
    "        return num1 + num2\n",
    "    elif operation == \"subtract\":\n",
    "        return num1 - num2\n",
    "    elif operation == \"multiply\":\n",
    "        return num1 * num2\n",
    "performOperation(10, 5, message=\"10 * 5 =\", operation=\"multiply\")  # Prints Message \"10 * 5 =\" and multiplies 10 and 5, returns 50"
   ]
  }
 ],
 "metadata": {
  "kernelspec": {
   "display_name": "Python 3",
   "language": "python",
   "name": "python3"
  },
  "language_info": {
   "codemirror_mode": {
    "name": "ipython",
    "version": 3
   },
   "file_extension": ".py",
   "mimetype": "text/x-python",
   "name": "python",
   "nbconvert_exporter": "python",
   "pygments_lexer": "ipython3",
   "version": "3.13.7"
  }
 },
 "nbformat": 4,
 "nbformat_minor": 5
}
