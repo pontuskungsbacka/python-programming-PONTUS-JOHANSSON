{
 "cells": [
  {
   "cell_type": "markdown",
   "id": "7d3fe6c3",
   "metadata": {},
   "source": [
    "### Classes\n",
    "##### Instance Attributes"
   ]
  },
  {
   "cell_type": "code",
   "execution_count": 1,
   "id": "04087ba0",
   "metadata": {},
   "outputs": [
    {
     "name": "stdout",
     "output_type": "stream",
     "text": [
      "Buddy\n",
      "4\n",
      "Buddy says Woof!\n"
     ]
    }
   ],
   "source": [
    "class Dog: \n",
    "    def __init__(self, name):\n",
    "        self.name = name  # Instance attribute  \n",
    "        self.legs = 4    # Instance attribute\n",
    "    def spreak(self):\n",
    "        print(f\"{self.name} says Woof!\")  # Method using instance attribute\n",
    "myDog = Dog(\"Buddy\")  # Creating an instance of Dog\n",
    "print(myDog.name)  # Accessing instance attribute\n",
    "print(myDog.legs)  # Accessing instance attribute\n",
    "myDog.spreak()     # Calling method"
   ]
  },
  {
   "cell_type": "markdown",
   "id": "63600010",
   "metadata": {},
   "source": [
    "##### Static Attributes"
   ]
  },
  {
   "cell_type": "code",
   "execution_count": null,
   "id": "6ed8c74d",
   "metadata": {},
   "outputs": [
    {
     "name": "stdout",
     "output_type": "stream",
     "text": [
      "Buddy\n",
      "4\n"
     ]
    }
   ],
   "source": [
    "class Dog: \n",
    "    legs = 4  # Class attribute\n",
    "    def __init__(self, name):\n",
    "        self.name = name  # Instance attribute  \n",
    "\n",
    "    def spreak(self):\n",
    "        print(f\"{self.name} says Woof!\")  # Method using instance attribute\n",
    "\n",
    "myDog = Dog(\"Buddy\")  # Creating an instance of Dog\n",
    "print(myDog.name)  # Accessing instance attribute\n",
    "print(myDog.legs) # Accessing class attribute"
   ]
  },
  {
   "cell_type": "code",
   "execution_count": 7,
   "id": "d8fb51e3",
   "metadata": {},
   "outputs": [
    {
     "data": {
      "text/plain": [
       "4"
      ]
     },
     "execution_count": 7,
     "metadata": {},
     "output_type": "execute_result"
    }
   ],
   "source": [
    "Dog.legs # Accessing class attribute"
   ]
  },
  {
   "cell_type": "code",
   "execution_count": 8,
   "id": "2fbe0a25",
   "metadata": {},
   "outputs": [],
   "source": [
    "Dog.legs = 3 # Modifying class attribute"
   ]
  },
  {
   "cell_type": "code",
   "execution_count": 9,
   "id": "67cf26b0",
   "metadata": {},
   "outputs": [
    {
     "name": "stdout",
     "output_type": "stream",
     "text": [
      "Steve\n",
      "3\n"
     ]
    }
   ],
   "source": [
    "myDog = Dog(\"Steve\")\n",
    "print(myDog.name)\n",
    "print(myDog.legs)"
   ]
  },
  {
   "cell_type": "code",
   "execution_count": 10,
   "id": "12ae25b5",
   "metadata": {},
   "outputs": [
    {
     "name": "stdout",
     "output_type": "stream",
     "text": [
      "Pete\n",
      "4\n"
     ]
    }
   ],
   "source": [
    "class Dog: \n",
    "    _legs = 4  # Class attribute (conventionally private)\n",
    "    def __init__(self, name):\n",
    "        self.name = name  # Instance attribute  \n",
    "\n",
    "    def getLegs(self):\n",
    "        return self._legs  # Accessing class attribute\n",
    "\n",
    "    def spreak(self):\n",
    "        print(f\"{self.name} says Woof!\")  # Method using instance attribute\n",
    "\n",
    "myDog = Dog(\"Pete\")  # Creating an instance of Dog\n",
    "print(myDog.name)  # Accessing instance attribute\n",
    "print(myDog.getLegs()) # Accessing class attribute"
   ]
  }
 ],
 "metadata": {
  "kernelspec": {
   "display_name": "Python 3",
   "language": "python",
   "name": "python3"
  },
  "language_info": {
   "codemirror_mode": {
    "name": "ipython",
    "version": 3
   },
   "file_extension": ".py",
   "mimetype": "text/x-python",
   "name": "python",
   "nbconvert_exporter": "python",
   "pygments_lexer": "ipython3",
   "version": "3.13.7"
  }
 },
 "nbformat": 4,
 "nbformat_minor": 5
}
