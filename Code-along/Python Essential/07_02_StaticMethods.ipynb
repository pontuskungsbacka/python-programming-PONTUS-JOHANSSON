{
 "cells": [
  {
   "cell_type": "markdown",
   "id": "4021d213",
   "metadata": {},
   "source": [
    "### Static and Instance Methods"
   ]
  },
  {
   "cell_type": "code",
   "execution_count": 3,
   "id": "e358f39c",
   "metadata": {},
   "outputs": [
    {
     "name": "stdout",
     "output_type": "stream",
     "text": [
      "{'hello', 'is', 'another', 'this', 'a', 'test'}\n"
     ]
    }
   ],
   "source": [
    "class wordSet: \n",
    "    def __init__(self):\n",
    "        self.words = set()  # Instance attribute\n",
    "\n",
    "    def addText(self, text):\n",
    "        text = self.cleanText(text)\n",
    "        for word in text.split():\n",
    "            self.words.add(word)   \n",
    "    \n",
    "    def cleanText(self, text):\n",
    "        text = text.replace(\",\", \"\").replace(\".\", \"\")\n",
    "        return text.lower()\n",
    "\n",
    "wordSet = wordSet()\n",
    "\n",
    "wordSet.addText(\"Hello, hello. This is a test.\")    \n",
    "wordSet.addText(\"This is another test.\")    \n",
    "print(wordSet.words)"
   ]
  },
  {
   "cell_type": "code",
   "execution_count": null,
   "id": "572f16d9",
   "metadata": {},
   "outputs": [],
   "source": [
    "class wordSet:\n",
    "    replacepuncs = [\",\", \".\"]  # Class attribute\n",
    "    def __init__(self):\n",
    "        self.words = set()  # Instance attribute\n",
    "\n",
    "    def addText(self, text):\n",
    "        text = self.cleanText(text)\n",
    "        for word in text.split():\n",
    "            self.words.add(word)   \n",
    "    \n",
    "    def cleanText(self, text):\n",
    "        for punc in wordSet.replacepuncs:\n",
    "            text = text.replace(punc, \"\")\n",
    "        return text.lower()\n",
    "            \n",
    "\n",
    "wordSet = wordSet()\n",
    "\n",
    "wordSet.addText(\"Hello, hello. This is a test.\")    \n",
    "wordSet.addText(\"This is another test.\")    \n",
    "print(wordSet.words)"
   ]
  }
 ],
 "metadata": {
  "kernelspec": {
   "display_name": "Python 3",
   "language": "python",
   "name": "python3"
  },
  "language_info": {
   "codemirror_mode": {
    "name": "ipython",
    "version": 3
   },
   "file_extension": ".py",
   "mimetype": "text/x-python",
   "name": "python",
   "nbconvert_exporter": "python",
   "pygments_lexer": "ipython3",
   "version": "3.13.7"
  }
 },
 "nbformat": 4,
 "nbformat_minor": 5
}
