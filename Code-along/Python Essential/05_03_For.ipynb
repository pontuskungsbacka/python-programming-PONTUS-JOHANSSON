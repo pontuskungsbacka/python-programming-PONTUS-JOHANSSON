{
 "cells": [
  {
   "cell_type": "markdown",
   "id": "d9a384cc",
   "metadata": {},
   "source": [
    "### For loop"
   ]
  },
  {
   "cell_type": "code",
   "execution_count": 1,
   "id": "09e06810",
   "metadata": {},
   "outputs": [
    {
     "name": "stdout",
     "output_type": "stream",
     "text": [
      "1\n",
      "2\n",
      "3\n",
      "4\n",
      "5\n"
     ]
    }
   ],
   "source": [
    "myList = [1, 2, 3, 4, 5]\n",
    "for item in myList:\n",
    "    print(item)"
   ]
  },
  {
   "cell_type": "markdown",
   "id": "2c164d08",
   "metadata": {},
   "source": [
    "##### Pass"
   ]
  },
  {
   "cell_type": "code",
   "execution_count": 3,
   "id": "aa3a5e37",
   "metadata": {},
   "outputs": [],
   "source": [
    "animalLookup = {\n",
    "    \"cat\": \"meow\",\n",
    "    \"dog\": \"woof\",\n",
    "    \"cow\": \"moo\",\n",
    "    \"sheep\": \"baa\"\n",
    "}\n",
    "for animal, sound in animalLookup.items():\n",
    "    pass"
   ]
  },
  {
   "cell_type": "code",
   "execution_count": null,
   "id": "9aa1f031",
   "metadata": {},
   "outputs": [
    {
     "name": "stdout",
     "output_type": "stream",
     "text": [
      "cat goes meow\n",
      "dog goes woof\n",
      "cow goes moo\n",
      "sheep goes baa\n"
     ]
    }
   ],
   "source": [
    "for animal, sound in animalLookup.items():\n",
    "    if len(animal) < 3:  #if the length of the animal name is less than 3\n",
    "        continue\n",
    "    print(f\"{animal} goes {sound}\")  # Print the animal and its sound"
   ]
  },
  {
   "cell_type": "markdown",
   "id": "f35cd54a",
   "metadata": {},
   "source": [
    "##### Break\n",
    "Going to check later whats wrong with this line"
   ]
  },
  {
   "cell_type": "code",
   "execution_count": null,
   "id": "e609810b",
   "metadata": {},
   "outputs": [
    {
     "name": "stdout",
     "output_type": "stream",
     "text": [
      "Found 3 animals: Cat\n"
     ]
    }
   ],
   "source": [
    "animalLetter = {\n",
    "    \"a\": \"Cat\",\n",
    "    \"b\": \"Dog\",\n",
    "    \"c\": \"Cow\",\n",
    "    \"d\": \"Dunky\"\n",
    "}\n",
    "for letter, animals in animalLetter.items():\n",
    "    if len(animals) > 1: \n",
    "        print(f\"Found {len(animals)} animals: {animals}\")\n",
    "        break"
   ]
  },
  {
   "cell_type": "markdown",
   "id": "dd64ba1e",
   "metadata": {},
   "source": [
    "##### For / else"
   ]
  },
  {
   "cell_type": "code",
   "execution_count": 35,
   "id": "d2577c9f",
   "metadata": {},
   "outputs": [
    {
     "name": "stdout",
     "output_type": "stream",
     "text": [
      "2 is a prime number\n",
      "3 is a prime number\n",
      "5 is a prime number\n",
      "7 is a prime number\n",
      "11 is a prime number\n",
      "13 is a prime number\n",
      "17 is a prime number\n",
      "19 is a prime number\n",
      "23 is a prime number\n",
      "29 is a prime number\n",
      "31 is a prime number\n",
      "37 is a prime number\n",
      "41 is a prime number\n",
      "43 is a prime number\n",
      "47 is a prime number\n",
      "53 is a prime number\n",
      "59 is a prime number\n",
      "61 is a prime number\n",
      "67 is a prime number\n",
      "71 is a prime number\n",
      "73 is a prime number\n",
      "79 is a prime number\n",
      "83 is a prime number\n",
      "89 is a prime number\n",
      "97 is a prime number\n"
     ]
    }
   ],
   "source": [
    "for number in range(2, 100):\n",
    "    for factor in range(2, int(number ** 0.5) + 1):\n",
    "        if number % factor == 0:\n",
    "                break\n",
    "    else:\n",
    "        print(f\"{number} is a prime number\")"
   ]
  },
  {
   "cell_type": "code",
   "execution_count": 36,
   "id": "35639b9f",
   "metadata": {},
   "outputs": [
    {
     "name": "stdout",
     "output_type": "stream",
     "text": [
      "2 is a prime number\n",
      "3 is a prime number\n",
      "5 is a prime number\n",
      "7 is a prime number\n",
      "11 is a prime number\n",
      "13 is a prime number\n",
      "17 is a prime number\n",
      "19 is a prime number\n",
      "23 is a prime number\n",
      "29 is a prime number\n",
      "31 is a prime number\n",
      "37 is a prime number\n",
      "41 is a prime number\n",
      "43 is a prime number\n",
      "47 is a prime number\n",
      "53 is a prime number\n",
      "59 is a prime number\n",
      "61 is a prime number\n",
      "67 is a prime number\n",
      "71 is a prime number\n",
      "73 is a prime number\n",
      "79 is a prime number\n",
      "83 is a prime number\n",
      "89 is a prime number\n",
      "97 is a prime number\n"
     ]
    }
   ],
   "source": [
    "for number in range(2, 100):\n",
    "    found_factor = False\n",
    "    for factor in range(2, int(number ** 0.5) + 1):\n",
    "        if number % factor == 0:\n",
    "            found_factor = True\n",
    "            break\n",
    "    if not found_factor:\n",
    "        print(f\"{number} is a prime number\")"
   ]
  }
 ],
 "metadata": {
  "kernelspec": {
   "display_name": "Python 3",
   "language": "python",
   "name": "python3"
  },
  "language_info": {
   "codemirror_mode": {
    "name": "ipython",
    "version": 3
   },
   "file_extension": ".py",
   "mimetype": "text/x-python",
   "name": "python",
   "nbconvert_exporter": "python",
   "pygments_lexer": "ipython3",
   "version": "3.13.7"
  }
 },
 "nbformat": 4,
 "nbformat_minor": 5
}
